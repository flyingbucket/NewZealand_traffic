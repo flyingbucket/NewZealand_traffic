{
 "cells": [
  {
   "cell_type": "code",
   "execution_count": 18,
   "id": "e868118a",
   "metadata": {},
   "outputs": [
    {
     "data": {
      "text/plain": [
       "<module 'xgbFunc' from '/home/flyingbucket/CODE/NewZealand_traffic/xgbFunc.py'>"
      ]
     },
     "execution_count": 18,
     "metadata": {},
     "output_type": "execute_result"
    }
   ],
   "source": [
    "import xgbFunc\n",
    "import xgboost as xgb\n",
    "import pandas as pd\n",
    "import numpy as np\n",
    "from xgboost import XGBClassifier\n",
    "from sklearn.model_selection import train_test_split\n",
    "from sklearn.preprocessing import LabelEncoder\n",
    "import shap\n",
    "import importlib\n",
    "importlib.reload(xgbFunc)"
   ]
  },
  {
   "cell_type": "code",
   "execution_count": 7,
   "id": "56a2a278",
   "metadata": {},
   "outputs": [
    {
     "name": "stdout",
     "output_type": "stream",
     "text": [
      "4 \n",
      "\n",
      "Starting random search...\n"
     ]
    },
    {
     "name": "stderr",
     "output_type": "stream",
     "text": [
      "  0%|          | 0/100 [00:06<?, ?it/s]\n"
     ]
    },
    {
     "ename": "AxisError",
     "evalue": "axis 1 is out of bounds for array of dimension 1",
     "output_type": "error",
     "traceback": [
      "\u001b[0;31m---------------------------------------------------------------------------\u001b[0m",
      "\u001b[0;31mAxisError\u001b[0m                                 Traceback (most recent call last)",
      "Cell \u001b[0;32mIn[7], line 9\u001b[0m\n\u001b[1;32m      7\u001b[0m X_train, X_test, y_train, y_test\u001b[38;5;241m=\u001b[39mtrain_test_split(data,y, test_size\u001b[38;5;241m=\u001b[39m\u001b[38;5;241m0.2\u001b[39m, random_state\u001b[38;5;241m=\u001b[39m\u001b[38;5;241m42\u001b[39m)\n\u001b[1;32m      8\u001b[0m \u001b[38;5;28mprint\u001b[39m(\u001b[38;5;28mlen\u001b[39m(np\u001b[38;5;241m.\u001b[39munique(y_train)),\u001b[38;5;124m\"\u001b[39m\u001b[38;5;130;01m\\n\u001b[39;00m\u001b[38;5;124m\"\u001b[39m)\n\u001b[0;32m----> 9\u001b[0m best_params,best_score,label_encoder,num_classes\u001b[38;5;241m=\u001b[39m\u001b[43mxgbFunc\u001b[49m\u001b[38;5;241;43m.\u001b[39;49m\u001b[43mxgb_clf_search_gpu\u001b[49m\u001b[43m(\u001b[49m\u001b[43mX_train\u001b[49m\u001b[43m,\u001b[49m\u001b[43my_train\u001b[49m\u001b[43m,\u001b[49m\u001b[43mn_iter\u001b[49m\u001b[38;5;241;43m=\u001b[39;49m\u001b[38;5;241;43m100\u001b[39;49m\u001b[43m)\u001b[49m\n",
      "File \u001b[0;32m~/CODE/NewZealand_traffic/xgbFunc.py:305\u001b[0m, in \u001b[0;36mxgb_clf_search_gpu\u001b[0;34m(X, y, n_iter, cv, random_state)\u001b[0m\n\u001b[1;32m    296\u001b[0m     booster \u001b[38;5;241m=\u001b[39m xgb\u001b[38;5;241m.\u001b[39mtrain(\n\u001b[1;32m    297\u001b[0m         xgb_params,\n\u001b[1;32m    298\u001b[0m         dtrain,\n\u001b[0;32m   (...)\u001b[0m\n\u001b[1;32m    301\u001b[0m         verbose_eval\u001b[38;5;241m=\u001b[39m\u001b[38;5;28;01mFalse\u001b[39;00m\n\u001b[1;32m    302\u001b[0m     )\n\u001b[1;32m    304\u001b[0m     preds \u001b[38;5;241m=\u001b[39m booster\u001b[38;5;241m.\u001b[39mpredict(dvalid)\n\u001b[0;32m--> 305\u001b[0m     acc \u001b[38;5;241m=\u001b[39m (\u001b[43mpreds\u001b[49m\u001b[38;5;241;43m.\u001b[39;49m\u001b[43margmax\u001b[49m\u001b[43m(\u001b[49m\u001b[43maxis\u001b[49m\u001b[38;5;241;43m=\u001b[39;49m\u001b[38;5;241;43m1\u001b[39;49m\u001b[43m)\u001b[49m \u001b[38;5;241m==\u001b[39m y_encoded[valid_idx])\u001b[38;5;241m.\u001b[39mmean()\n\u001b[1;32m    306\u001b[0m     scores\u001b[38;5;241m.\u001b[39mappend(acc)\n\u001b[1;32m    308\u001b[0m mean_score \u001b[38;5;241m=\u001b[39m np\u001b[38;5;241m.\u001b[39mmean(scores)\n",
      "\u001b[0;31mAxisError\u001b[0m: axis 1 is out of bounds for array of dimension 1"
     ]
    }
   ],
   "source": [
    "data_ori=pd.read_csv(\"data/crash.csv\")\n",
    "y = data_ori[\"crashSeverity\"]\n",
    "data=xgbFunc.encode_features(data_ori.drop(columns=[\"crashSeverity\"]))\n",
    "\n",
    "le_y=LabelEncoder()\n",
    "y=le_y.fit_transform(y)\n",
    "X_train, X_test, y_train, y_test=train_test_split(data,y, test_size=0.2, random_state=42)\n",
    "print(len(np.unique(y_train)),\"\\n\")\n",
    "best_params,best_score,label_encoder,num_classes=xgbFunc.xgb_clf_search_gpu(X_train,y_train,n_iter=100)"
   ]
  },
  {
   "cell_type": "code",
   "execution_count": 16,
   "id": "3454b3ec",
   "metadata": {},
   "outputs": [
    {
     "data": {
      "text/plain": [
       "4"
      ]
     },
     "execution_count": 16,
     "metadata": {},
     "output_type": "execute_result"
    }
   ],
   "source": [
    "len(np.unique(y_train))"
   ]
  },
  {
   "cell_type": "code",
   "execution_count": 19,
   "id": "a63a84a9",
   "metadata": {},
   "outputs": [
    {
     "name": "stdout",
     "output_type": "stream",
     "text": [
      "Starting random search...\n"
     ]
    },
    {
     "name": "stderr",
     "output_type": "stream",
     "text": [
      "100%|██████████| 10/10 [02:56<00:00, 17.64s/it]"
     ]
    },
    {
     "name": "stdout",
     "output_type": "stream",
     "text": [
      "\n",
      "Best Parameters:\n",
      "learning_rate: 0.12236203565420874\n",
      "max_depth: 7\n",
      "min_child_weight: 8\n",
      "gamma: 0.2993292420985183\n",
      "subsample: 0.7468055921327309\n",
      "colsample_bytree: 0.7467983561008608\n",
      "reg_alpha: 0.05808361216819946\n",
      "reg_lambda: 0.8661761457749352\n",
      "n_estimators: 199\n",
      "Best Accuracy: 0.9999698236035665\n"
     ]
    },
    {
     "name": "stderr",
     "output_type": "stream",
     "text": [
      "\n"
     ]
    }
   ],
   "source": [
    "best_params,best_score,label_encoder,num_classes=xgbFunc.xgb_clf_search_gpu(X_train,y_train,n_iter=10)"
   ]
  },
  {
   "cell_type": "code",
   "execution_count": null,
   "id": "c819dfd0",
   "metadata": {},
   "outputs": [],
   "source": []
  }
 ],
 "metadata": {
  "kernelspec": {
   "display_name": "xgb-gpu",
   "language": "python",
   "name": "python3"
  },
  "language_info": {
   "codemirror_mode": {
    "name": "ipython",
    "version": 3
   },
   "file_extension": ".py",
   "mimetype": "text/x-python",
   "name": "python",
   "nbconvert_exporter": "python",
   "pygments_lexer": "ipython3",
   "version": "3.9.21"
  }
 },
 "nbformat": 4,
 "nbformat_minor": 5
}
