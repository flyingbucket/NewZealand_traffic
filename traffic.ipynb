{
 "cells": [
  {
   "cell_type": "code",
   "execution_count": 2,
   "id": "a2eeae4e",
   "metadata": {},
   "outputs": [
    {
     "name": "stderr",
     "output_type": "stream",
     "text": [
      "\n",
      "A module that was compiled using NumPy 1.x cannot be run in\n",
      "NumPy 2.0.2 as it may crash. To support both 1.x and 2.x\n",
      "versions of NumPy, modules must be compiled with NumPy 2.0.\n",
      "Some module may need to rebuild instead e.g. with 'pybind11>=2.12'.\n",
      "\n",
      "If you are a user of the module, the easiest solution will be to\n",
      "downgrade to 'numpy<2' or try to upgrade the affected module.\n",
      "We expect that some modules will need time to support NumPy 2.\n",
      "\n",
      "Traceback (most recent call last):  File \"/home/flyingbucket/anaconda3/envs/xgb-gpu/lib/python3.9/runpy.py\", line 197, in _run_module_as_main\n",
      "    return _run_code(code, main_globals, None,\n",
      "  File \"/home/flyingbucket/anaconda3/envs/xgb-gpu/lib/python3.9/runpy.py\", line 87, in _run_code\n",
      "    exec(code, run_globals)\n",
      "  File \"/home/flyingbucket/anaconda3/envs/xgb-gpu/lib/python3.9/site-packages/ipykernel_launcher.py\", line 18, in <module>\n",
      "    app.launch_new_instance()\n",
      "  File \"/home/flyingbucket/anaconda3/envs/xgb-gpu/lib/python3.9/site-packages/traitlets/config/application.py\", line 1075, in launch_instance\n",
      "    app.start()\n",
      "  File \"/home/flyingbucket/anaconda3/envs/xgb-gpu/lib/python3.9/site-packages/ipykernel/kernelapp.py\", line 739, in start\n",
      "    self.io_loop.start()\n",
      "  File \"/home/flyingbucket/anaconda3/envs/xgb-gpu/lib/python3.9/site-packages/tornado/platform/asyncio.py\", line 205, in start\n",
      "    self.asyncio_loop.run_forever()\n",
      "  File \"/home/flyingbucket/anaconda3/envs/xgb-gpu/lib/python3.9/asyncio/base_events.py\", line 601, in run_forever\n",
      "    self._run_once()\n",
      "  File \"/home/flyingbucket/anaconda3/envs/xgb-gpu/lib/python3.9/asyncio/base_events.py\", line 1905, in _run_once\n",
      "    handle._run()\n",
      "  File \"/home/flyingbucket/anaconda3/envs/xgb-gpu/lib/python3.9/asyncio/events.py\", line 80, in _run\n",
      "    self._context.run(self._callback, *self._args)\n",
      "  File \"/home/flyingbucket/anaconda3/envs/xgb-gpu/lib/python3.9/site-packages/ipykernel/kernelbase.py\", line 545, in dispatch_queue\n",
      "    await self.process_one()\n",
      "  File \"/home/flyingbucket/anaconda3/envs/xgb-gpu/lib/python3.9/site-packages/ipykernel/kernelbase.py\", line 534, in process_one\n",
      "    await dispatch(*args)\n",
      "  File \"/home/flyingbucket/anaconda3/envs/xgb-gpu/lib/python3.9/site-packages/ipykernel/kernelbase.py\", line 437, in dispatch_shell\n",
      "    await result\n",
      "  File \"/home/flyingbucket/anaconda3/envs/xgb-gpu/lib/python3.9/site-packages/ipykernel/ipkernel.py\", line 362, in execute_request\n",
      "    await super().execute_request(stream, ident, parent)\n",
      "  File \"/home/flyingbucket/anaconda3/envs/xgb-gpu/lib/python3.9/site-packages/ipykernel/kernelbase.py\", line 778, in execute_request\n",
      "    reply_content = await reply_content\n",
      "  File \"/home/flyingbucket/anaconda3/envs/xgb-gpu/lib/python3.9/site-packages/ipykernel/ipkernel.py\", line 449, in do_execute\n",
      "    res = shell.run_cell(\n",
      "  File \"/home/flyingbucket/anaconda3/envs/xgb-gpu/lib/python3.9/site-packages/ipykernel/zmqshell.py\", line 549, in run_cell\n",
      "    return super().run_cell(*args, **kwargs)\n",
      "  File \"/home/flyingbucket/anaconda3/envs/xgb-gpu/lib/python3.9/site-packages/IPython/core/interactiveshell.py\", line 3048, in run_cell\n",
      "    result = self._run_cell(\n",
      "  File \"/home/flyingbucket/anaconda3/envs/xgb-gpu/lib/python3.9/site-packages/IPython/core/interactiveshell.py\", line 3103, in _run_cell\n",
      "    result = runner(coro)\n",
      "  File \"/home/flyingbucket/anaconda3/envs/xgb-gpu/lib/python3.9/site-packages/IPython/core/async_helpers.py\", line 129, in _pseudo_sync_runner\n",
      "    coro.send(None)\n",
      "  File \"/home/flyingbucket/anaconda3/envs/xgb-gpu/lib/python3.9/site-packages/IPython/core/interactiveshell.py\", line 3308, in run_cell_async\n",
      "    has_raised = await self.run_ast_nodes(code_ast.body, cell_name,\n",
      "  File \"/home/flyingbucket/anaconda3/envs/xgb-gpu/lib/python3.9/site-packages/IPython/core/interactiveshell.py\", line 3490, in run_ast_nodes\n",
      "    if await self.run_code(code, result, async_=asy):\n",
      "  File \"/home/flyingbucket/anaconda3/envs/xgb-gpu/lib/python3.9/site-packages/IPython/core/interactiveshell.py\", line 3550, in run_code\n",
      "    exec(code_obj, self.user_global_ns, self.user_ns)\n",
      "  File \"/tmp/ipykernel_5483/4080154113.py\", line 1, in <module>\n",
      "    import xgbFunc\n",
      "  File \"/home/flyingbucket/CODE/NewZealand_traffic/xgbFunc.py\", line 6, in <module>\n",
      "    import shap\n",
      "  File \"/home/flyingbucket/anaconda3/envs/xgb-gpu/lib/python3.9/site-packages/shap/__init__.py\", line 4, in <module>\n",
      "    from .explainers import other\n",
      "  File \"/home/flyingbucket/anaconda3/envs/xgb-gpu/lib/python3.9/site-packages/shap/explainers/__init__.py\", line 4, in <module>\n",
      "    from ._gpu_tree import GPUTreeExplainer\n",
      "  File \"/home/flyingbucket/anaconda3/envs/xgb-gpu/lib/python3.9/site-packages/shap/explainers/_gpu_tree.py\", line 5, in <module>\n",
      "    from ._tree import (\n",
      "  File \"/home/flyingbucket/anaconda3/envs/xgb-gpu/lib/python3.9/site-packages/shap/explainers/_tree.py\", line 29, in <module>\n",
      "    from .. import _cext\n"
     ]
    },
    {
     "ename": "AttributeError",
     "evalue": "_ARRAY_API not found",
     "output_type": "error",
     "traceback": [
      "\u001b[0;31m---------------------------------------------------------------------------\u001b[0m",
      "\u001b[0;31mAttributeError\u001b[0m                            Traceback (most recent call last)",
      "\u001b[0;31mAttributeError\u001b[0m: _ARRAY_API not found"
     ]
    },
    {
     "name": "stderr",
     "output_type": "stream",
     "text": [
      "/home/flyingbucket/anaconda3/envs/xgb-gpu/lib/python3.9/site-packages/tqdm/auto.py:21: TqdmWarning: IProgress not found. Please update jupyter and ipywidgets. See https://ipywidgets.readthedocs.io/en/stable/user_install.html\n",
      "  from .autonotebook import tqdm as notebook_tqdm\n"
     ]
    },
    {
     "data": {
      "text/plain": [
       "<module 'xgbFunc' from '/home/flyingbucket/CODE/NewZealand_traffic/xgbFunc.py'>"
      ]
     },
     "execution_count": 2,
     "metadata": {},
     "output_type": "execute_result"
    }
   ],
   "source": [
    "import xgbFunc\n",
    "import xgboost as xgb\n",
    "import pandas as pd\n",
    "import numpy as np\n",
    "from xgboost import XGBClassifier\n",
    "from sklearn.model_selection import train_test_split\n",
    "from sklearn.preprocessing import LabelEncoder\n",
    "import shap\n",
    "import importlib\n",
    "importlib.reload(xgbFunc)"
   ]
  },
  {
   "cell_type": "code",
   "execution_count": 2,
   "id": "45247250",
   "metadata": {},
   "outputs": [],
   "source": [
    "# from xgboost import XGBClassifier\n",
    "# clf = XGBClassifier(tree_method='gpu_hist', predictor='gpu_predictor')\n",
    "# print(clf)\n",
    "# from xgboost import Booster\n",
    "# print(Booster({'tree_method': 'gpu_hist'}).attributes())\n"
   ]
  },
  {
   "cell_type": "code",
   "execution_count": 3,
   "id": "bcf91b61",
   "metadata": {},
   "outputs": [],
   "source": [
    "# import numpy as np\n",
    "# from xgboost import XGBClassifier\n",
    "\n",
    "# X = np.random.rand(100, 10)\n",
    "# y = np.random.randint(0, 2, size=100)\n",
    "\n",
    "# model = XGBClassifier(tree_method='hist', device='gpu')\n",
    "# model.fit(X, y)\n"
   ]
  },
  {
   "cell_type": "code",
   "execution_count": 3,
   "id": "ccefb57e",
   "metadata": {},
   "outputs": [
    {
     "data": {
      "text/html": [
       "<div>\n",
       "<style scoped>\n",
       "    .dataframe tbody tr th:only-of-type {\n",
       "        vertical-align: middle;\n",
       "    }\n",
       "\n",
       "    .dataframe tbody tr th {\n",
       "        vertical-align: top;\n",
       "    }\n",
       "\n",
       "    .dataframe thead th {\n",
       "        text-align: right;\n",
       "    }\n",
       "</style>\n",
       "<table border=\"1\" class=\"dataframe\">\n",
       "  <thead>\n",
       "    <tr style=\"text-align: right;\">\n",
       "      <th></th>\n",
       "      <th>X</th>\n",
       "      <th>Y</th>\n",
       "      <th>OBJECTID</th>\n",
       "      <th>advisorySpeed</th>\n",
       "      <th>areaUnitID</th>\n",
       "      <th>bicycle</th>\n",
       "      <th>bridge</th>\n",
       "      <th>bus</th>\n",
       "      <th>carStationWagon</th>\n",
       "      <th>cliffBank</th>\n",
       "      <th>...</th>\n",
       "      <th>train</th>\n",
       "      <th>tree</th>\n",
       "      <th>truck</th>\n",
       "      <th>unknownVehicleType</th>\n",
       "      <th>urban</th>\n",
       "      <th>vanOrUtility</th>\n",
       "      <th>vehicle</th>\n",
       "      <th>waterRiver</th>\n",
       "      <th>weatherA</th>\n",
       "      <th>weatherB</th>\n",
       "    </tr>\n",
       "  </thead>\n",
       "  <tbody>\n",
       "    <tr>\n",
       "      <th>0</th>\n",
       "      <td>2037728.0</td>\n",
       "      <td>5709220.0</td>\n",
       "      <td>1</td>\n",
       "      <td>NaN</td>\n",
       "      <td>544500.0</td>\n",
       "      <td>1.0</td>\n",
       "      <td>NaN</td>\n",
       "      <td>0.0</td>\n",
       "      <td>1.0</td>\n",
       "      <td>NaN</td>\n",
       "      <td>...</td>\n",
       "      <td>NaN</td>\n",
       "      <td>NaN</td>\n",
       "      <td>0.0</td>\n",
       "      <td>0.0</td>\n",
       "      <td>Urban</td>\n",
       "      <td>0.0</td>\n",
       "      <td>NaN</td>\n",
       "      <td>NaN</td>\n",
       "      <td>Light rain</td>\n",
       "      <td>Null</td>\n",
       "    </tr>\n",
       "    <tr>\n",
       "      <th>1</th>\n",
       "      <td>1793829.0</td>\n",
       "      <td>5500169.0</td>\n",
       "      <td>2</td>\n",
       "      <td>NaN</td>\n",
       "      <td>564231.0</td>\n",
       "      <td>0.0</td>\n",
       "      <td>NaN</td>\n",
       "      <td>0.0</td>\n",
       "      <td>1.0</td>\n",
       "      <td>NaN</td>\n",
       "      <td>...</td>\n",
       "      <td>NaN</td>\n",
       "      <td>NaN</td>\n",
       "      <td>0.0</td>\n",
       "      <td>0.0</td>\n",
       "      <td>Urban</td>\n",
       "      <td>0.0</td>\n",
       "      <td>NaN</td>\n",
       "      <td>NaN</td>\n",
       "      <td>Fine</td>\n",
       "      <td>Null</td>\n",
       "    </tr>\n",
       "    <tr>\n",
       "      <th>2</th>\n",
       "      <td>1753976.0</td>\n",
       "      <td>5929363.0</td>\n",
       "      <td>3</td>\n",
       "      <td>NaN</td>\n",
       "      <td>508420.0</td>\n",
       "      <td>0.0</td>\n",
       "      <td>NaN</td>\n",
       "      <td>0.0</td>\n",
       "      <td>2.0</td>\n",
       "      <td>NaN</td>\n",
       "      <td>...</td>\n",
       "      <td>NaN</td>\n",
       "      <td>NaN</td>\n",
       "      <td>0.0</td>\n",
       "      <td>0.0</td>\n",
       "      <td>Urban</td>\n",
       "      <td>0.0</td>\n",
       "      <td>NaN</td>\n",
       "      <td>NaN</td>\n",
       "      <td>Fine</td>\n",
       "      <td>Null</td>\n",
       "    </tr>\n",
       "    <tr>\n",
       "      <th>3</th>\n",
       "      <td>1771836.0</td>\n",
       "      <td>5914911.0</td>\n",
       "      <td>4</td>\n",
       "      <td>NaN</td>\n",
       "      <td>521602.0</td>\n",
       "      <td>0.0</td>\n",
       "      <td>0.0</td>\n",
       "      <td>0.0</td>\n",
       "      <td>2.0</td>\n",
       "      <td>0.0</td>\n",
       "      <td>...</td>\n",
       "      <td>0.0</td>\n",
       "      <td>0.0</td>\n",
       "      <td>0.0</td>\n",
       "      <td>0.0</td>\n",
       "      <td>Urban</td>\n",
       "      <td>0.0</td>\n",
       "      <td>0.0</td>\n",
       "      <td>0.0</td>\n",
       "      <td>Light rain</td>\n",
       "      <td>Null</td>\n",
       "    </tr>\n",
       "    <tr>\n",
       "      <th>4</th>\n",
       "      <td>1752438.0</td>\n",
       "      <td>5918349.0</td>\n",
       "      <td>5</td>\n",
       "      <td>NaN</td>\n",
       "      <td>515002.0</td>\n",
       "      <td>0.0</td>\n",
       "      <td>NaN</td>\n",
       "      <td>0.0</td>\n",
       "      <td>2.0</td>\n",
       "      <td>NaN</td>\n",
       "      <td>...</td>\n",
       "      <td>NaN</td>\n",
       "      <td>NaN</td>\n",
       "      <td>0.0</td>\n",
       "      <td>0.0</td>\n",
       "      <td>Urban</td>\n",
       "      <td>0.0</td>\n",
       "      <td>NaN</td>\n",
       "      <td>NaN</td>\n",
       "      <td>Fine</td>\n",
       "      <td>Null</td>\n",
       "    </tr>\n",
       "  </tbody>\n",
       "</table>\n",
       "<p>5 rows × 72 columns</p>\n",
       "</div>"
      ],
      "text/plain": [
       "           X          Y  OBJECTID  advisorySpeed  areaUnitID  bicycle  bridge  \\\n",
       "0  2037728.0  5709220.0         1            NaN    544500.0      1.0     NaN   \n",
       "1  1793829.0  5500169.0         2            NaN    564231.0      0.0     NaN   \n",
       "2  1753976.0  5929363.0         3            NaN    508420.0      0.0     NaN   \n",
       "3  1771836.0  5914911.0         4            NaN    521602.0      0.0     0.0   \n",
       "4  1752438.0  5918349.0         5            NaN    515002.0      0.0     NaN   \n",
       "\n",
       "   bus  carStationWagon  cliffBank  ... train tree truck unknownVehicleType  \\\n",
       "0  0.0              1.0        NaN  ...   NaN  NaN   0.0                0.0   \n",
       "1  0.0              1.0        NaN  ...   NaN  NaN   0.0                0.0   \n",
       "2  0.0              2.0        NaN  ...   NaN  NaN   0.0                0.0   \n",
       "3  0.0              2.0        0.0  ...   0.0  0.0   0.0                0.0   \n",
       "4  0.0              2.0        NaN  ...   NaN  NaN   0.0                0.0   \n",
       "\n",
       "   urban vanOrUtility vehicle  waterRiver    weatherA weatherB  \n",
       "0  Urban          0.0     NaN         NaN  Light rain     Null  \n",
       "1  Urban          0.0     NaN         NaN        Fine     Null  \n",
       "2  Urban          0.0     NaN         NaN        Fine     Null  \n",
       "3  Urban          0.0     0.0         0.0  Light rain     Null  \n",
       "4  Urban          0.0     NaN         NaN        Fine     Null  \n",
       "\n",
       "[5 rows x 72 columns]"
      ]
     },
     "execution_count": 3,
     "metadata": {},
     "output_type": "execute_result"
    }
   ],
   "source": [
    "data_ori=pd.read_csv(\"data/crash.csv\")\n",
    "data_ori.head()"
   ]
  },
  {
   "cell_type": "code",
   "execution_count": null,
   "id": "cc19c7bc",
   "metadata": {},
   "outputs": [],
   "source": [
    "y = data_ori[\"crashSeverity\"]\n",
    "data=xgbFunc.encode_features(data_ori.drop(columns=[\"crashSeverity\"]))\n",
    "data.head()"
   ]
  },
  {
   "cell_type": "code",
   "execution_count": 5,
   "id": "acd130df",
   "metadata": {},
   "outputs": [
    {
     "data": {
      "text/plain": [
       "Index(['X', 'Y', 'OBJECTID', 'advisorySpeed', 'areaUnitID', 'bicycle',\n",
       "       'bridge', 'bus', 'carStationWagon', 'cliffBank',\n",
       "       'crashDirectionDescription', 'crashFinancialYear', 'crashLocation1',\n",
       "       'crashLocation2', 'crashRoadSideRoad', 'crashSHDescription',\n",
       "       'crashYear', 'debris', 'directionRoleDescription', 'ditch',\n",
       "       'fatalCount', 'fence', 'flatHill', 'guardRail', 'holiday',\n",
       "       'houseOrBuilding', 'intersection', 'kerb', 'light', 'meshblockId',\n",
       "       'minorInjuryCount', 'moped', 'motorcycle', 'NumberOfLanes',\n",
       "       'objectThrownOrDropped', 'otherObject', 'otherVehicleType', 'overBank',\n",
       "       'parkedVehicle', 'pedestrian', 'phoneBoxEtc', 'postOrPole', 'region',\n",
       "       'roadCharacter', 'roadLane', 'roadSurface', 'roadworks', 'schoolBus',\n",
       "       'seriousInjuryCount', 'slipOrFlood', 'speedLimit', 'strayAnimal',\n",
       "       'streetLight', 'suv', 'taxi', 'temporarySpeedLimit', 'tlaId', 'tlaName',\n",
       "       'trafficControl', 'trafficIsland', 'trafficSign', 'train', 'tree',\n",
       "       'truck', 'unknownVehicleType', 'urban', 'vanOrUtility', 'vehicle',\n",
       "       'waterRiver', 'weatherA', 'weatherB'],\n",
       "      dtype='object')"
      ]
     },
     "execution_count": 5,
     "metadata": {},
     "output_type": "execute_result"
    }
   ],
   "source": [
    "data.columns"
   ]
  },
  {
   "cell_type": "code",
   "execution_count": 6,
   "id": "cae76be9",
   "metadata": {},
   "outputs": [],
   "source": [
    "le_y=LabelEncoder()\n",
    "y=le_y.fit_transform(y)\n",
    "X_train, X_test, y_train, y_test=train_test_split(data,y, test_size=0.2, random_state=42)\n"
   ]
  },
  {
   "cell_type": "code",
   "execution_count": 21,
   "id": "bda99466",
   "metadata": {},
   "outputs": [
    {
     "name": "stdout",
     "output_type": "stream",
     "text": [
      "Starting random search...\n"
     ]
    },
    {
     "name": "stderr",
     "output_type": "stream",
     "text": [
      "100%|██████████| 100/100 [27:56<00:00, 16.77s/it]"
     ]
    },
    {
     "name": "stdout",
     "output_type": "stream",
     "text": [
      "\n",
      "Best Parameters:\n",
      "learning_rate: 0.12236203565420874\n",
      "max_depth: 7\n",
      "min_child_weight: 8\n",
      "gamma: 0.2993292420985183\n",
      "subsample: 0.7468055921327309\n",
      "colsample_bytree: 0.7467983561008608\n",
      "reg_alpha: 0.05808361216819946\n",
      "reg_lambda: 0.8661761457749352\n",
      "n_estimators: 199\n",
      "Best Accuracy: 0.9999698236035665\n"
     ]
    },
    {
     "name": "stderr",
     "output_type": "stream",
     "text": [
      "\n"
     ]
    }
   ],
   "source": [
    "best_params,best_score,label_encoder,num_classes=xgbFunc.xgb_clf_search_gpu(X_train,y_train,n_iter=100)"
   ]
  },
  {
   "cell_type": "code",
   "execution_count": 22,
   "id": "e1718b73",
   "metadata": {},
   "outputs": [],
   "source": [
    "model = XGBClassifier(\n",
    "    objective='multi:softprob',\n",
    "    num_class=num_classes,\n",
    "    n_jobs=-1,\n",
    "    eval_metric='mlogloss',\n",
    "    random_state=42,\n",
    "    tree_method='hist',     \n",
    "    device='cuda',         \n",
    ")\n",
    "model.set_params(**best_params)\n",
    "model.fit(X_train, y_train)\n",
    "y_pred = model.predict(X_test)\n"
   ]
  },
  {
   "cell_type": "code",
   "execution_count": 23,
   "id": "8e7c5518",
   "metadata": {},
   "outputs": [
    {
     "data": {
      "image/png": "[encoded data removed]",
      "text/plain": [
       "<Figure size 640x480 with 1 Axes>"
      ]
     },
     "metadata": {},
     "output_type": "display_data"
    },
    {
     "data": {
      "image/png": "[encoded data removed]",
      "text/plain": [
       "<Figure size 640x480 with 1 Axes>"
      ]
     },
     "metadata": {},
     "output_type": "display_data"
    },
    {
     "data": {
      "image/png": "[encoded data removed]",
      "text/plain": [
       "<Figure size 640x480 with 1 Axes>"
      ]
     },
     "metadata": {},
     "output_type": "display_data"
    }
   ],
   "source": [
    "import os\n",
    "if not os.path.exists(\"result\"):\n",
    "    os.makedirs(\"result\")\n",
    "result_path=\"result\"\n",
    "importance_figs=xgbFunc.visualize_importance(model)\n",
    "for fig,imp_type in importance_figs:\n",
    "    fig.savefig(os.path.join(result_path,f\"{imp_type}.png\"), dpi=300)"
   ]
  },
  {
   "cell_type": "code",
   "execution_count": 26,
   "id": "8f1db4f9",
   "metadata": {},
   "outputs": [],
   "source": [
    "model.save_model(os.path.join(result_path,\"model_ori.json\"))"
   ]
  },
  {
   "cell_type": "code",
   "execution_count": 4,
   "id": "be90b3df",
   "metadata": {},
   "outputs": [],
   "source": [
    "# shap_fig=xgbFunc.visulize_shap(model, X_train)\n",
    "# shap_fig.savefig(os.path.join(result_path,\"shap.png\"), dpi=300)"
   ]
  }
 ],
 "metadata": {
  "kernelspec": {
   "display_name": "xgb-gpu",
   "language": "python",
   "name": "python3"
  },
  "language_info": {
   "codemirror_mode": {
    "name": "ipython",
    "version": 3
   },
   "file_extension": ".py",
   "mimetype": "text/x-python",
   "name": "python",
   "nbconvert_exporter": "python",
   "pygments_lexer": "ipython3",
   "version": "3.9.21"
  }
 },
 "nbformat": 4,
 "nbformat_minor": 5
}
