{
 "cells": [
  {
   "cell_type": "code",
   "execution_count": 18,
   "id": "a2eeae4e",
   "metadata": {},
   "outputs": [
    {
     "data": {
      "text/plain": [
       "<module 'xgbFunc' from '/home/flyingbucket/CODE/NewZealand_traffic/xgbFunc.py'>"
      ]
     },
     "execution_count": 18,
     "metadata": {},
     "output_type": "execute_result"
    }
   ],
   "source": [
    "import xgbFunc\n",
    "import xgboost as xgb\n",
    "import pandas as pd\n",
    "import numpy as np\n",
    "from xgboost import XGBClassifier\n",
    "from sklearn.model_selection import train_test_split\n",
    "from sklearn.preprocessing import LabelEncoder\n",
    "import shap\n",
    "import importlib\n",
    "importlib.reload(xgbFunc)"
   ]
  },
  {
   "cell_type": "code",
   "execution_count": 2,
   "id": "45247250",
   "metadata": {},
   "outputs": [],
   "source": [
    "# from xgboost import XGBClassifier\n",
    "# clf = XGBClassifier(tree_method='gpu_hist', predictor='gpu_predictor')\n",
    "# print(clf)\n",
    "# from xgboost import Booster\n",
    "# print(Booster({'tree_method': 'gpu_hist'}).attributes())\n"
   ]
  },
  {
   "cell_type": "code",
   "execution_count": 3,
   "id": "bcf91b61",
   "metadata": {},
   "outputs": [],
   "source": [
    "# import numpy as np\n",
    "# from xgboost import XGBClassifier\n",
    "\n",
    "# X = np.random.rand(100, 10)\n",
    "# y = np.random.randint(0, 2, size=100)\n",
    "\n",
    "# model = XGBClassifier(tree_method='hist', device='gpu')\n",
    "# model.fit(X, y)\n"
   ]
  },
  {
   "cell_type": "code",
   "execution_count": 4,
   "id": "ccefb57e",
   "metadata": {},
   "outputs": [
    {
     "data": {
      "text/html": [
       "<div>\n",
       "<style scoped>\n",
       "    .dataframe tbody tr th:only-of-type {\n",
       "        vertical-align: middle;\n",
       "    }\n",
       "\n",
       "    .dataframe tbody tr th {\n",
       "        vertical-align: top;\n",
       "    }\n",
       "\n",
       "    .dataframe thead th {\n",
       "        text-align: right;\n",
       "    }\n",
       "</style>\n",
       "<table border=\"1\" class=\"dataframe\">\n",
       "  <thead>\n",
       "    <tr style=\"text-align: right;\">\n",
       "      <th></th>\n",
       "      <th>X</th>\n",
       "      <th>Y</th>\n",
       "      <th>OBJECTID</th>\n",
       "      <th>advisorySpeed</th>\n",
       "      <th>areaUnitID</th>\n",
       "      <th>bicycle</th>\n",
       "      <th>bridge</th>\n",
       "      <th>bus</th>\n",
       "      <th>carStationWagon</th>\n",
       "      <th>cliffBank</th>\n",
       "      <th>...</th>\n",
       "      <th>train</th>\n",
       "      <th>tree</th>\n",
       "      <th>truck</th>\n",
       "      <th>unknownVehicleType</th>\n",
       "      <th>urban</th>\n",
       "      <th>vanOrUtility</th>\n",
       "      <th>vehicle</th>\n",
       "      <th>waterRiver</th>\n",
       "      <th>weatherA</th>\n",
       "      <th>weatherB</th>\n",
       "    </tr>\n",
       "  </thead>\n",
       "  <tbody>\n",
       "    <tr>\n",
       "      <th>0</th>\n",
       "      <td>2037728.0</td>\n",
       "      <td>5709220.0</td>\n",
       "      <td>1</td>\n",
       "      <td>NaN</td>\n",
       "      <td>544500.0</td>\n",
       "      <td>1.0</td>\n",
       "      <td>NaN</td>\n",
       "      <td>0.0</td>\n",
       "      <td>1.0</td>\n",
       "      <td>NaN</td>\n",
       "      <td>...</td>\n",
       "      <td>NaN</td>\n",
       "      <td>NaN</td>\n",
       "      <td>0.0</td>\n",
       "      <td>0.0</td>\n",
       "      <td>1.0</td>\n",
       "      <td>0.0</td>\n",
       "      <td>NaN</td>\n",
       "      <td>NaN</td>\n",
       "      <td>3.0</td>\n",
       "      <td>1.0</td>\n",
       "    </tr>\n",
       "    <tr>\n",
       "      <th>1</th>\n",
       "      <td>1793829.0</td>\n",
       "      <td>5500169.0</td>\n",
       "      <td>2</td>\n",
       "      <td>NaN</td>\n",
       "      <td>564231.0</td>\n",
       "      <td>0.0</td>\n",
       "      <td>NaN</td>\n",
       "      <td>0.0</td>\n",
       "      <td>1.0</td>\n",
       "      <td>NaN</td>\n",
       "      <td>...</td>\n",
       "      <td>NaN</td>\n",
       "      <td>NaN</td>\n",
       "      <td>0.0</td>\n",
       "      <td>0.0</td>\n",
       "      <td>1.0</td>\n",
       "      <td>0.0</td>\n",
       "      <td>NaN</td>\n",
       "      <td>NaN</td>\n",
       "      <td>0.0</td>\n",
       "      <td>1.0</td>\n",
       "    </tr>\n",
       "    <tr>\n",
       "      <th>2</th>\n",
       "      <td>1753976.0</td>\n",
       "      <td>5929363.0</td>\n",
       "      <td>3</td>\n",
       "      <td>NaN</td>\n",
       "      <td>508420.0</td>\n",
       "      <td>0.0</td>\n",
       "      <td>NaN</td>\n",
       "      <td>0.0</td>\n",
       "      <td>2.0</td>\n",
       "      <td>NaN</td>\n",
       "      <td>...</td>\n",
       "      <td>NaN</td>\n",
       "      <td>NaN</td>\n",
       "      <td>0.0</td>\n",
       "      <td>0.0</td>\n",
       "      <td>1.0</td>\n",
       "      <td>0.0</td>\n",
       "      <td>NaN</td>\n",
       "      <td>NaN</td>\n",
       "      <td>0.0</td>\n",
       "      <td>1.0</td>\n",
       "    </tr>\n",
       "    <tr>\n",
       "      <th>3</th>\n",
       "      <td>1771836.0</td>\n",
       "      <td>5914911.0</td>\n",
       "      <td>4</td>\n",
       "      <td>NaN</td>\n",
       "      <td>521602.0</td>\n",
       "      <td>0.0</td>\n",
       "      <td>0.0</td>\n",
       "      <td>0.0</td>\n",
       "      <td>2.0</td>\n",
       "      <td>0.0</td>\n",
       "      <td>...</td>\n",
       "      <td>0.0</td>\n",
       "      <td>0.0</td>\n",
       "      <td>0.0</td>\n",
       "      <td>0.0</td>\n",
       "      <td>1.0</td>\n",
       "      <td>0.0</td>\n",
       "      <td>0.0</td>\n",
       "      <td>0.0</td>\n",
       "      <td>3.0</td>\n",
       "      <td>1.0</td>\n",
       "    </tr>\n",
       "    <tr>\n",
       "      <th>4</th>\n",
       "      <td>1752438.0</td>\n",
       "      <td>5918349.0</td>\n",
       "      <td>5</td>\n",
       "      <td>NaN</td>\n",
       "      <td>515002.0</td>\n",
       "      <td>0.0</td>\n",
       "      <td>NaN</td>\n",
       "      <td>0.0</td>\n",
       "      <td>2.0</td>\n",
       "      <td>NaN</td>\n",
       "      <td>...</td>\n",
       "      <td>NaN</td>\n",
       "      <td>NaN</td>\n",
       "      <td>0.0</td>\n",
       "      <td>0.0</td>\n",
       "      <td>1.0</td>\n",
       "      <td>0.0</td>\n",
       "      <td>NaN</td>\n",
       "      <td>NaN</td>\n",
       "      <td>0.0</td>\n",
       "      <td>1.0</td>\n",
       "    </tr>\n",
       "  </tbody>\n",
       "</table>\n",
       "<p>5 rows × 71 columns</p>\n",
       "</div>"
      ],
      "text/plain": [
       "           X          Y  OBJECTID  advisorySpeed  areaUnitID  bicycle  bridge  \\\n",
       "0  2037728.0  5709220.0         1            NaN    544500.0      1.0     NaN   \n",
       "1  1793829.0  5500169.0         2            NaN    564231.0      0.0     NaN   \n",
       "2  1753976.0  5929363.0         3            NaN    508420.0      0.0     NaN   \n",
       "3  1771836.0  5914911.0         4            NaN    521602.0      0.0     0.0   \n",
       "4  1752438.0  5918349.0         5            NaN    515002.0      0.0     NaN   \n",
       "\n",
       "   bus  carStationWagon  cliffBank  ...  train  tree  truck  \\\n",
       "0  0.0              1.0        NaN  ...    NaN   NaN    0.0   \n",
       "1  0.0              1.0        NaN  ...    NaN   NaN    0.0   \n",
       "2  0.0              2.0        NaN  ...    NaN   NaN    0.0   \n",
       "3  0.0              2.0        0.0  ...    0.0   0.0    0.0   \n",
       "4  0.0              2.0        NaN  ...    NaN   NaN    0.0   \n",
       "\n",
       "   unknownVehicleType  urban  vanOrUtility  vehicle  waterRiver  weatherA  \\\n",
       "0                 0.0    1.0           0.0      NaN         NaN       3.0   \n",
       "1                 0.0    1.0           0.0      NaN         NaN       0.0   \n",
       "2                 0.0    1.0           0.0      NaN         NaN       0.0   \n",
       "3                 0.0    1.0           0.0      0.0         0.0       3.0   \n",
       "4                 0.0    1.0           0.0      NaN         NaN       0.0   \n",
       "\n",
       "   weatherB  \n",
       "0       1.0  \n",
       "1       1.0  \n",
       "2       1.0  \n",
       "3       1.0  \n",
       "4       1.0  \n",
       "\n",
       "[5 rows x 71 columns]"
      ]
     },
     "execution_count": 4,
     "metadata": {},
     "output_type": "execute_result"
    }
   ],
   "source": [
    "data_ori=pd.read_csv(\"data/crash.csv\")\n",
    "y = data_ori[\"crashSeverity\"]\n",
    "data=xgbFunc.encode_features(data_ori.drop(columns=[\"crashSeverity\"]))\n",
    "data.head()"
   ]
  },
  {
   "cell_type": "code",
   "execution_count": 5,
   "id": "acd130df",
   "metadata": {},
   "outputs": [
    {
     "data": {
      "text/plain": [
       "Index(['X', 'Y', 'OBJECTID', 'advisorySpeed', 'areaUnitID', 'bicycle',\n",
       "       'bridge', 'bus', 'carStationWagon', 'cliffBank',\n",
       "       'crashDirectionDescription', 'crashFinancialYear', 'crashLocation1',\n",
       "       'crashLocation2', 'crashRoadSideRoad', 'crashSHDescription',\n",
       "       'crashYear', 'debris', 'directionRoleDescription', 'ditch',\n",
       "       'fatalCount', 'fence', 'flatHill', 'guardRail', 'holiday',\n",
       "       'houseOrBuilding', 'intersection', 'kerb', 'light', 'meshblockId',\n",
       "       'minorInjuryCount', 'moped', 'motorcycle', 'NumberOfLanes',\n",
       "       'objectThrownOrDropped', 'otherObject', 'otherVehicleType', 'overBank',\n",
       "       'parkedVehicle', 'pedestrian', 'phoneBoxEtc', 'postOrPole', 'region',\n",
       "       'roadCharacter', 'roadLane', 'roadSurface', 'roadworks', 'schoolBus',\n",
       "       'seriousInjuryCount', 'slipOrFlood', 'speedLimit', 'strayAnimal',\n",
       "       'streetLight', 'suv', 'taxi', 'temporarySpeedLimit', 'tlaId', 'tlaName',\n",
       "       'trafficControl', 'trafficIsland', 'trafficSign', 'train', 'tree',\n",
       "       'truck', 'unknownVehicleType', 'urban', 'vanOrUtility', 'vehicle',\n",
       "       'waterRiver', 'weatherA', 'weatherB'],\n",
       "      dtype='object')"
      ]
     },
     "execution_count": 5,
     "metadata": {},
     "output_type": "execute_result"
    }
   ],
   "source": [
    "data.columns"
   ]
  },
  {
   "cell_type": "code",
   "execution_count": 6,
   "id": "cae76be9",
   "metadata": {},
   "outputs": [],
   "source": [
    "le_y=LabelEncoder()\n",
    "y=le_y.fit_transform(y)\n",
    "X_train, X_test, y_train, y_test=train_test_split(data,y, test_size=0.2, random_state=42)\n"
   ]
  },
  {
   "cell_type": "code",
   "execution_count": 21,
   "id": "bda99466",
   "metadata": {},
   "outputs": [
    {
     "name": "stdout",
     "output_type": "stream",
     "text": [
      "Starting random search...\n"
     ]
    },
    {
     "name": "stderr",
     "output_type": "stream",
     "text": [
      "100%|██████████| 100/100 [27:56<00:00, 16.77s/it]"
     ]
    },
    {
     "name": "stdout",
     "output_type": "stream",
     "text": [
      "\n",
      "Best Parameters:\n",
      "learning_rate: 0.12236203565420874\n",
      "max_depth: 7\n",
      "min_child_weight: 8\n",
      "gamma: 0.2993292420985183\n",
      "subsample: 0.7468055921327309\n",
      "colsample_bytree: 0.7467983561008608\n",
      "reg_alpha: 0.05808361216819946\n",
      "reg_lambda: 0.8661761457749352\n",
      "n_estimators: 199\n",
      "Best Accuracy: 0.9999698236035665\n"
     ]
    },
    {
     "name": "stderr",
     "output_type": "stream",
     "text": [
      "\n"
     ]
    }
   ],
   "source": [
    "best_params,best_score,label_encoder,num_classes=xgbFunc.xgb_clf_search_gpu(X_train,y_train,n_iter=100)"
   ]
  },
  {
   "cell_type": "code",
   "execution_count": 22,
   "id": "e1718b73",
   "metadata": {},
   "outputs": [],
   "source": [
    "model = XGBClassifier(\n",
    "    objective='multi:softprob',\n",
    "    num_class=num_classes,\n",
    "    n_jobs=-1,\n",
    "    eval_metric='mlogloss',\n",
    "    random_state=42,\n",
    "    tree_method='hist',     \n",
    "    device='cuda',         \n",
    ")\n",
    "model.set_params(**best_params)\n",
    "model.fit(X_train, y_train)\n",
    "y_pred = model.predict(X_test)\n"
   ]
  },
  {
   "cell_type": "code",
   "execution_count": 23,
   "id": "8e7c5518",
   "metadata": {},
   "outputs": [
    {
     "data": {
      "image/png": "[encoded data removed]",
      "text/plain": [
       "<Figure size 640x480 with 1 Axes>"
      ]
     },
     "metadata": {},
     "output_type": "display_data"
    },
    {
     "data": {
      "image/png": "[encoded data removed]",
      "text/plain": [
       "<Figure size 640x480 with 1 Axes>"
      ]
     },
     "metadata": {},
     "output_type": "display_data"
    },
    {
     "data": {
      "image/png": "[encoded data removed]",
      "text/plain": [
       "<Figure size 640x480 with 1 Axes>"
      ]
     },
     "metadata": {},
     "output_type": "display_data"
    }
   ],
   "source": [
    "import os\n",
    "if not os.path.exists(\"result\"):\n",
    "    os.makedirs(\"result\")\n",
    "result_path=\"result\"\n",
    "importance_figs=xgbFunc.visualize_importance(model)\n",
    "for fig,imp_type in importance_figs:\n",
    "    fig.savefig(os.path.join(result_path,f\"{imp_type}.png\"), dpi=300)"
   ]
  },
  {
   "cell_type": "code",
   "execution_count": 26,
   "id": "8f1db4f9",
   "metadata": {},
   "outputs": [],
   "source": [
    "model.save_model(os.path.join(result_path,\"model_ori.json\"))"
   ]
  },
  {
   "cell_type": "code",
   "execution_count": 25,
   "id": "be90b3df",
   "metadata": {},
   "outputs": [
    {
     "name": "stdout",
     "output_type": "stream",
     "text": [
      "C extension was not built during install!\n"
     ]
    },
    {
     "ename": "ImportError",
     "evalue": "numpy.core.multiarray failed to import",
     "output_type": "error",
     "traceback": [
      "\u001b[0;31m---------------------------------------------------------------------------\u001b[0m",
      "\u001b[0;31mImportError\u001b[0m                               Traceback (most recent call last)",
      "Cell \u001b[0;32mIn[25], line 1\u001b[0m\n\u001b[0;32m----> 1\u001b[0m shap_fig\u001b[38;5;241m=\u001b[39m\u001b[43mxgbFunc\u001b[49m\u001b[38;5;241;43m.\u001b[39;49m\u001b[43mvisulize_shap\u001b[49m\u001b[43m(\u001b[49m\u001b[43mmodel\u001b[49m\u001b[43m,\u001b[49m\u001b[43m \u001b[49m\u001b[43mX_train\u001b[49m\u001b[43m)\u001b[49m\n\u001b[1;32m      2\u001b[0m shap_fig\u001b[38;5;241m.\u001b[39msavefig(os\u001b[38;5;241m.\u001b[39mpath\u001b[38;5;241m.\u001b[39mjoin(result_path,\u001b[38;5;124m\"\u001b[39m\u001b[38;5;124mshap.png\u001b[39m\u001b[38;5;124m\"\u001b[39m), dpi\u001b[38;5;241m=\u001b[39m\u001b[38;5;241m300\u001b[39m)\n",
      "File \u001b[0;32m~/CODE/NewZealand_traffic/xgbFunc.py:226\u001b[0m, in \u001b[0;36mvisulize_shap\u001b[0;34m(model, X_train)\u001b[0m\n\u001b[1;32m    224\u001b[0m \u001b[38;5;28;01mdef\u001b[39;00m\u001b[38;5;250m \u001b[39m\u001b[38;5;21mvisualize_shap\u001b[39m(model,X_train):\n\u001b[0;32m--> 226\u001b[0m     explainer \u001b[38;5;241m=\u001b[39m shap\u001b[38;5;241m.\u001b[39mTreeExplainer(model\u001b[38;5;241m.\u001b[39mget_booster,X_train)\n\u001b[1;32m    227\u001b[0m     shap_values \u001b[38;5;241m=\u001b[39m explainer(X_train)\n\u001b[1;32m    228\u001b[0m     shap\u001b[38;5;241m.\u001b[39msummary_plot(shap_values, X_train,show\u001b[38;5;241m=\u001b[39m\u001b[38;5;28;01mFalse\u001b[39;00m,plot_type\u001b[38;5;241m=\u001b[39m\u001b[38;5;124m\"\u001b[39m\u001b[38;5;124mdot\u001b[39m\u001b[38;5;124m\"\u001b[39m)\n",
      "File \u001b[0;32m~/anaconda3/envs/xgb-gpu/lib/python3.9/site-packages/shap/explainers/_tree.py:195\u001b[0m, in \u001b[0;36mTreeExplainer.__init__\u001b[0;34m(self, model, data, model_output, feature_perturbation, feature_names, approximate, link, linearize_link)\u001b[0m\n\u001b[1;32m    193\u001b[0m \u001b[38;5;28mself\u001b[39m\u001b[38;5;241m.\u001b[39mfeature_perturbation \u001b[38;5;241m=\u001b[39m feature_perturbation\n\u001b[1;32m    194\u001b[0m \u001b[38;5;28mself\u001b[39m\u001b[38;5;241m.\u001b[39mexpected_value \u001b[38;5;241m=\u001b[39m \u001b[38;5;28;01mNone\u001b[39;00m\n\u001b[0;32m--> 195\u001b[0m \u001b[38;5;28mself\u001b[39m\u001b[38;5;241m.\u001b[39mmodel \u001b[38;5;241m=\u001b[39m \u001b[43mTreeEnsemble\u001b[49m\u001b[43m(\u001b[49m\u001b[43mmodel\u001b[49m\u001b[43m,\u001b[49m\u001b[43m \u001b[49m\u001b[38;5;28;43mself\u001b[39;49m\u001b[38;5;241;43m.\u001b[39;49m\u001b[43mdata\u001b[49m\u001b[43m,\u001b[49m\u001b[43m \u001b[49m\u001b[38;5;28;43mself\u001b[39;49m\u001b[38;5;241;43m.\u001b[39;49m\u001b[43mdata_missing\u001b[49m\u001b[43m,\u001b[49m\u001b[43m \u001b[49m\u001b[43mmodel_output\u001b[49m\u001b[43m)\u001b[49m\n\u001b[1;32m    196\u001b[0m \u001b[38;5;28mself\u001b[39m\u001b[38;5;241m.\u001b[39mmodel_output \u001b[38;5;241m=\u001b[39m model_output\n\u001b[1;32m    197\u001b[0m \u001b[38;5;66;03m#self.model_output = self.model.model_output # this allows the TreeEnsemble to translate model outputs types by how it loads the model\u001b[39;00m\n",
      "File \u001b[0;32m~/anaconda3/envs/xgb-gpu/lib/python3.9/site-packages/shap/explainers/_tree.py:1046\u001b[0m, in \u001b[0;36mTreeEnsemble.__init__\u001b[0;34m(self, model, data, data_missing, model_output)\u001b[0m\n\u001b[1;32m   1044\u001b[0m \u001b[38;5;28mself\u001b[39m\u001b[38;5;241m.\u001b[39minput_dtype \u001b[38;5;241m=\u001b[39m np\u001b[38;5;241m.\u001b[39mfloat32\n\u001b[1;32m   1045\u001b[0m \u001b[38;5;28mself\u001b[39m\u001b[38;5;241m.\u001b[39moriginal_model \u001b[38;5;241m=\u001b[39m model\u001b[38;5;241m.\u001b[39mget_booster()\n\u001b[0;32m-> 1046\u001b[0m \u001b[38;5;28;43mself\u001b[39;49m\u001b[38;5;241;43m.\u001b[39;49m\u001b[43m_set_xgboost_model_attributes\u001b[49m\u001b[43m(\u001b[49m\n\u001b[1;32m   1047\u001b[0m \u001b[43m    \u001b[49m\u001b[43mdata\u001b[49m\u001b[43m,\u001b[49m\n\u001b[1;32m   1048\u001b[0m \u001b[43m    \u001b[49m\u001b[43mdata_missing\u001b[49m\u001b[43m,\u001b[49m\n\u001b[1;32m   1049\u001b[0m \u001b[43m    \u001b[49m\u001b[43mobjective_name_map\u001b[49m\u001b[43m,\u001b[49m\n\u001b[1;32m   1050\u001b[0m \u001b[43m    \u001b[49m\u001b[43mtree_output_name_map\u001b[49m\u001b[43m,\u001b[49m\n\u001b[1;32m   1051\u001b[0m \u001b[43m\u001b[49m\u001b[43m)\u001b[49m\n\u001b[1;32m   1053\u001b[0m \u001b[38;5;28;01mif\u001b[39;00m \u001b[38;5;28mself\u001b[39m\u001b[38;5;241m.\u001b[39mmodel_output \u001b[38;5;241m==\u001b[39m \u001b[38;5;124m\"\u001b[39m\u001b[38;5;124mpredict_proba\u001b[39m\u001b[38;5;124m\"\u001b[39m:\n\u001b[1;32m   1054\u001b[0m     \u001b[38;5;28;01mif\u001b[39;00m \u001b[38;5;28mself\u001b[39m\u001b[38;5;241m.\u001b[39mnum_stacked_models \u001b[38;5;241m==\u001b[39m \u001b[38;5;241m1\u001b[39m:\n\u001b[1;32m   1055\u001b[0m         \u001b[38;5;66;03m# with predict_proba we need to double the outputs to match\u001b[39;00m\n",
      "File \u001b[0;32m~/anaconda3/envs/xgb-gpu/lib/python3.9/site-packages/shap/explainers/_tree.py:1280\u001b[0m, in \u001b[0;36mTreeEnsemble._set_xgboost_model_attributes\u001b[0;34m(self, data, data_missing, objective_name_map, tree_output_name_map)\u001b[0m\n\u001b[1;32m   1277\u001b[0m \u001b[38;5;28mself\u001b[39m\u001b[38;5;241m.\u001b[39mmodel_type \u001b[38;5;241m=\u001b[39m \u001b[38;5;124m\"\u001b[39m\u001b[38;5;124mxgboost\u001b[39m\u001b[38;5;124m\"\u001b[39m\n\u001b[1;32m   1278\u001b[0m loader \u001b[38;5;241m=\u001b[39m XGBTreeModelLoader(\u001b[38;5;28mself\u001b[39m\u001b[38;5;241m.\u001b[39moriginal_model)\n\u001b[0;32m-> 1280\u001b[0m \u001b[38;5;28mself\u001b[39m\u001b[38;5;241m.\u001b[39mtrees \u001b[38;5;241m=\u001b[39m \u001b[43mloader\u001b[49m\u001b[38;5;241;43m.\u001b[39;49m\u001b[43mget_trees\u001b[49m\u001b[43m(\u001b[49m\u001b[43mdata\u001b[49m\u001b[38;5;241;43m=\u001b[39;49m\u001b[43mdata\u001b[49m\u001b[43m,\u001b[49m\u001b[43m \u001b[49m\u001b[43mdata_missing\u001b[49m\u001b[38;5;241;43m=\u001b[39;49m\u001b[43mdata_missing\u001b[49m\u001b[43m)\u001b[49m\n\u001b[1;32m   1281\u001b[0m \u001b[38;5;28mself\u001b[39m\u001b[38;5;241m.\u001b[39mbase_offset \u001b[38;5;241m=\u001b[39m loader\u001b[38;5;241m.\u001b[39mbase_score\n\u001b[1;32m   1282\u001b[0m \u001b[38;5;28mself\u001b[39m\u001b[38;5;241m.\u001b[39mobjective \u001b[38;5;241m=\u001b[39m objective_name_map\u001b[38;5;241m.\u001b[39mget(loader\u001b[38;5;241m.\u001b[39mname_obj, \u001b[38;5;28;01mNone\u001b[39;00m)\n",
      "File \u001b[0;32m~/anaconda3/envs/xgb-gpu/lib/python3.9/site-packages/shap/explainers/_tree.py:1996\u001b[0m, in \u001b[0;36mXGBTreeModelLoader.get_trees\u001b[0;34m(self, data, data_missing)\u001b[0m\n\u001b[1;32m   1986\u001b[0m \u001b[38;5;28;01mfor\u001b[39;00m i \u001b[38;5;129;01min\u001b[39;00m \u001b[38;5;28mrange\u001b[39m(\u001b[38;5;28mself\u001b[39m\u001b[38;5;241m.\u001b[39mnum_trees):\n\u001b[1;32m   1987\u001b[0m     info \u001b[38;5;241m=\u001b[39m {\n\u001b[1;32m   1988\u001b[0m         \u001b[38;5;124m\"\u001b[39m\u001b[38;5;124mchildren_left\u001b[39m\u001b[38;5;124m\"\u001b[39m: \u001b[38;5;28mself\u001b[39m\u001b[38;5;241m.\u001b[39mnode_cleft[i],\n\u001b[1;32m   1989\u001b[0m         \u001b[38;5;124m\"\u001b[39m\u001b[38;5;124mchildren_right\u001b[39m\u001b[38;5;124m\"\u001b[39m: \u001b[38;5;28mself\u001b[39m\u001b[38;5;241m.\u001b[39mnode_cright[i],\n\u001b[0;32m   (...)\u001b[0m\n\u001b[1;32m   1994\u001b[0m         \u001b[38;5;124m\"\u001b[39m\u001b[38;5;124mnode_sample_weight\u001b[39m\u001b[38;5;124m\"\u001b[39m: \u001b[38;5;28mself\u001b[39m\u001b[38;5;241m.\u001b[39msum_hess[i],\n\u001b[1;32m   1995\u001b[0m     }\n\u001b[0;32m-> 1996\u001b[0m     trees\u001b[38;5;241m.\u001b[39mappend(\u001b[43mSingleTree\u001b[49m\u001b[43m(\u001b[49m\u001b[43minfo\u001b[49m\u001b[43m,\u001b[49m\u001b[43m \u001b[49m\u001b[43mdata\u001b[49m\u001b[38;5;241;43m=\u001b[39;49m\u001b[43mdata\u001b[49m\u001b[43m,\u001b[49m\u001b[43m \u001b[49m\u001b[43mdata_missing\u001b[49m\u001b[38;5;241;43m=\u001b[39;49m\u001b[43mdata_missing\u001b[49m\u001b[43m)\u001b[49m)\n\u001b[1;32m   1997\u001b[0m \u001b[38;5;28;01mreturn\u001b[39;00m trees\n",
      "File \u001b[0;32m~/anaconda3/envs/xgb-gpu/lib/python3.9/site-packages/shap/explainers/_tree.py:1468\u001b[0m, in \u001b[0;36mSingleTree.__init__\u001b[0;34m(self, tree, normalize, scaling, data, data_missing)\u001b[0m\n\u001b[1;32m   1467\u001b[0m \u001b[38;5;28;01mdef\u001b[39;00m\u001b[38;5;250m \u001b[39m\u001b[38;5;21m__init__\u001b[39m(\u001b[38;5;28mself\u001b[39m, tree, normalize\u001b[38;5;241m=\u001b[39m\u001b[38;5;28;01mFalse\u001b[39;00m, scaling\u001b[38;5;241m=\u001b[39m\u001b[38;5;241m1.0\u001b[39m, data\u001b[38;5;241m=\u001b[39m\u001b[38;5;28;01mNone\u001b[39;00m, data_missing\u001b[38;5;241m=\u001b[39m\u001b[38;5;28;01mNone\u001b[39;00m):\n\u001b[0;32m-> 1468\u001b[0m     \u001b[43massert_import\u001b[49m\u001b[43m(\u001b[49m\u001b[38;5;124;43m\"\u001b[39;49m\u001b[38;5;124;43mcext\u001b[39;49m\u001b[38;5;124;43m\"\u001b[39;49m\u001b[43m)\u001b[49m\n\u001b[1;32m   1470\u001b[0m     \u001b[38;5;28;01mif\u001b[39;00m safe_isinstance(tree, [\u001b[38;5;124m\"\u001b[39m\u001b[38;5;124msklearn.tree._tree.Tree\u001b[39m\u001b[38;5;124m\"\u001b[39m, \u001b[38;5;124m\"\u001b[39m\u001b[38;5;124meconml.tree._tree.Tree\u001b[39m\u001b[38;5;124m\"\u001b[39m]):\n\u001b[1;32m   1471\u001b[0m         \u001b[38;5;28mself\u001b[39m\u001b[38;5;241m.\u001b[39mchildren_left \u001b[38;5;241m=\u001b[39m tree\u001b[38;5;241m.\u001b[39mchildren_left\u001b[38;5;241m.\u001b[39mastype(np\u001b[38;5;241m.\u001b[39mint32)\n",
      "File \u001b[0;32m~/anaconda3/envs/xgb-gpu/lib/python3.9/site-packages/shap/utils/_general.py:19\u001b[0m, in \u001b[0;36massert_import\u001b[0;34m(package_name)\u001b[0m\n\u001b[1;32m     17\u001b[0m msg,e \u001b[38;5;241m=\u001b[39m import_errors[package_name]\n\u001b[1;32m     18\u001b[0m \u001b[38;5;28mprint\u001b[39m(msg)\n\u001b[0;32m---> 19\u001b[0m \u001b[38;5;28;01mraise\u001b[39;00m e\n",
      "    \u001b[0;31m[... skipping hidden 1 frame]\u001b[0m\n",
      "Cell \u001b[0;32mIn[25], line 1\u001b[0m\n\u001b[0;32m----> 1\u001b[0m shap_fig\u001b[38;5;241m=\u001b[39m\u001b[43mxgbFunc\u001b[49m\u001b[38;5;241;43m.\u001b[39;49m\u001b[43mvisulize_shap\u001b[49m\u001b[43m(\u001b[49m\u001b[43mmodel\u001b[49m\u001b[43m,\u001b[49m\u001b[43m \u001b[49m\u001b[43mX_train\u001b[49m\u001b[43m)\u001b[49m\n\u001b[1;32m      2\u001b[0m shap_fig\u001b[38;5;241m.\u001b[39msavefig(os\u001b[38;5;241m.\u001b[39mpath\u001b[38;5;241m.\u001b[39mjoin(result_path,\u001b[38;5;124m\"\u001b[39m\u001b[38;5;124mshap.png\u001b[39m\u001b[38;5;124m\"\u001b[39m), dpi\u001b[38;5;241m=\u001b[39m\u001b[38;5;241m300\u001b[39m)\n",
      "File \u001b[0;32m~/CODE/NewZealand_traffic/xgbFunc.py:226\u001b[0m, in \u001b[0;36mvisulize_shap\u001b[0;34m(model, X_train)\u001b[0m\n\u001b[1;32m    224\u001b[0m \u001b[38;5;28;01mdef\u001b[39;00m\u001b[38;5;250m \u001b[39m\u001b[38;5;21mvisualize_shap\u001b[39m(model,X_train):\n\u001b[0;32m--> 226\u001b[0m     explainer \u001b[38;5;241m=\u001b[39m shap\u001b[38;5;241m.\u001b[39mTreeExplainer(model\u001b[38;5;241m.\u001b[39mget_booster,X_train)\n\u001b[1;32m    227\u001b[0m     shap_values \u001b[38;5;241m=\u001b[39m explainer(X_train)\n\u001b[1;32m    228\u001b[0m     shap\u001b[38;5;241m.\u001b[39msummary_plot(shap_values, X_train,show\u001b[38;5;241m=\u001b[39m\u001b[38;5;28;01mFalse\u001b[39;00m,plot_type\u001b[38;5;241m=\u001b[39m\u001b[38;5;124m\"\u001b[39m\u001b[38;5;124mdot\u001b[39m\u001b[38;5;124m\"\u001b[39m)\n",
      "File \u001b[0;32m~/anaconda3/envs/xgb-gpu/lib/python3.9/site-packages/shap/explainers/_tree.py:195\u001b[0m, in \u001b[0;36mTreeExplainer.__init__\u001b[0;34m(self, model, data, model_output, feature_perturbation, feature_names, approximate, link, linearize_link)\u001b[0m\n\u001b[1;32m    193\u001b[0m \u001b[38;5;28mself\u001b[39m\u001b[38;5;241m.\u001b[39mfeature_perturbation \u001b[38;5;241m=\u001b[39m feature_perturbation\n\u001b[1;32m    194\u001b[0m \u001b[38;5;28mself\u001b[39m\u001b[38;5;241m.\u001b[39mexpected_value \u001b[38;5;241m=\u001b[39m \u001b[38;5;28;01mNone\u001b[39;00m\n\u001b[0;32m--> 195\u001b[0m \u001b[38;5;28mself\u001b[39m\u001b[38;5;241m.\u001b[39mmodel \u001b[38;5;241m=\u001b[39m \u001b[43mTreeEnsemble\u001b[49m\u001b[43m(\u001b[49m\u001b[43mmodel\u001b[49m\u001b[43m,\u001b[49m\u001b[43m \u001b[49m\u001b[38;5;28;43mself\u001b[39;49m\u001b[38;5;241;43m.\u001b[39;49m\u001b[43mdata\u001b[49m\u001b[43m,\u001b[49m\u001b[43m \u001b[49m\u001b[38;5;28;43mself\u001b[39;49m\u001b[38;5;241;43m.\u001b[39;49m\u001b[43mdata_missing\u001b[49m\u001b[43m,\u001b[49m\u001b[43m \u001b[49m\u001b[43mmodel_output\u001b[49m\u001b[43m)\u001b[49m\n\u001b[1;32m    196\u001b[0m \u001b[38;5;28mself\u001b[39m\u001b[38;5;241m.\u001b[39mmodel_output \u001b[38;5;241m=\u001b[39m model_output\n\u001b[1;32m    197\u001b[0m \u001b[38;5;66;03m#self.model_output = self.model.model_output # this allows the TreeEnsemble to translate model outputs types by how it loads the model\u001b[39;00m\n",
      "File \u001b[0;32m~/anaconda3/envs/xgb-gpu/lib/python3.9/site-packages/shap/explainers/_tree.py:1046\u001b[0m, in \u001b[0;36mTreeEnsemble.__init__\u001b[0;34m(self, model, data, data_missing, model_output)\u001b[0m\n\u001b[1;32m   1044\u001b[0m \u001b[38;5;28mself\u001b[39m\u001b[38;5;241m.\u001b[39minput_dtype \u001b[38;5;241m=\u001b[39m np\u001b[38;5;241m.\u001b[39mfloat32\n\u001b[1;32m   1045\u001b[0m \u001b[38;5;28mself\u001b[39m\u001b[38;5;241m.\u001b[39moriginal_model \u001b[38;5;241m=\u001b[39m model\u001b[38;5;241m.\u001b[39mget_booster()\n\u001b[0;32m-> 1046\u001b[0m \u001b[38;5;28;43mself\u001b[39;49m\u001b[38;5;241;43m.\u001b[39;49m\u001b[43m_set_xgboost_model_attributes\u001b[49m\u001b[43m(\u001b[49m\n\u001b[1;32m   1047\u001b[0m \u001b[43m    \u001b[49m\u001b[43mdata\u001b[49m\u001b[43m,\u001b[49m\n\u001b[1;32m   1048\u001b[0m \u001b[43m    \u001b[49m\u001b[43mdata_missing\u001b[49m\u001b[43m,\u001b[49m\n\u001b[1;32m   1049\u001b[0m \u001b[43m    \u001b[49m\u001b[43mobjective_name_map\u001b[49m\u001b[43m,\u001b[49m\n\u001b[1;32m   1050\u001b[0m \u001b[43m    \u001b[49m\u001b[43mtree_output_name_map\u001b[49m\u001b[43m,\u001b[49m\n\u001b[1;32m   1051\u001b[0m \u001b[43m\u001b[49m\u001b[43m)\u001b[49m\n\u001b[1;32m   1053\u001b[0m \u001b[38;5;28;01mif\u001b[39;00m \u001b[38;5;28mself\u001b[39m\u001b[38;5;241m.\u001b[39mmodel_output \u001b[38;5;241m==\u001b[39m \u001b[38;5;124m\"\u001b[39m\u001b[38;5;124mpredict_proba\u001b[39m\u001b[38;5;124m\"\u001b[39m:\n\u001b[1;32m   1054\u001b[0m     \u001b[38;5;28;01mif\u001b[39;00m \u001b[38;5;28mself\u001b[39m\u001b[38;5;241m.\u001b[39mnum_stacked_models \u001b[38;5;241m==\u001b[39m \u001b[38;5;241m1\u001b[39m:\n\u001b[1;32m   1055\u001b[0m         \u001b[38;5;66;03m# with predict_proba we need to double the outputs to match\u001b[39;00m\n",
      "File \u001b[0;32m~/anaconda3/envs/xgb-gpu/lib/python3.9/site-packages/shap/explainers/_tree.py:1280\u001b[0m, in \u001b[0;36mTreeEnsemble._set_xgboost_model_attributes\u001b[0;34m(self, data, data_missing, objective_name_map, tree_output_name_map)\u001b[0m\n\u001b[1;32m   1277\u001b[0m \u001b[38;5;28mself\u001b[39m\u001b[38;5;241m.\u001b[39mmodel_type \u001b[38;5;241m=\u001b[39m \u001b[38;5;124m\"\u001b[39m\u001b[38;5;124mxgboost\u001b[39m\u001b[38;5;124m\"\u001b[39m\n\u001b[1;32m   1278\u001b[0m loader \u001b[38;5;241m=\u001b[39m XGBTreeModelLoader(\u001b[38;5;28mself\u001b[39m\u001b[38;5;241m.\u001b[39moriginal_model)\n\u001b[0;32m-> 1280\u001b[0m \u001b[38;5;28mself\u001b[39m\u001b[38;5;241m.\u001b[39mtrees \u001b[38;5;241m=\u001b[39m \u001b[43mloader\u001b[49m\u001b[38;5;241;43m.\u001b[39;49m\u001b[43mget_trees\u001b[49m\u001b[43m(\u001b[49m\u001b[43mdata\u001b[49m\u001b[38;5;241;43m=\u001b[39;49m\u001b[43mdata\u001b[49m\u001b[43m,\u001b[49m\u001b[43m \u001b[49m\u001b[43mdata_missing\u001b[49m\u001b[38;5;241;43m=\u001b[39;49m\u001b[43mdata_missing\u001b[49m\u001b[43m)\u001b[49m\n\u001b[1;32m   1281\u001b[0m \u001b[38;5;28mself\u001b[39m\u001b[38;5;241m.\u001b[39mbase_offset \u001b[38;5;241m=\u001b[39m loader\u001b[38;5;241m.\u001b[39mbase_score\n\u001b[1;32m   1282\u001b[0m \u001b[38;5;28mself\u001b[39m\u001b[38;5;241m.\u001b[39mobjective \u001b[38;5;241m=\u001b[39m objective_name_map\u001b[38;5;241m.\u001b[39mget(loader\u001b[38;5;241m.\u001b[39mname_obj, \u001b[38;5;28;01mNone\u001b[39;00m)\n",
      "File \u001b[0;32m~/anaconda3/envs/xgb-gpu/lib/python3.9/site-packages/shap/explainers/_tree.py:1996\u001b[0m, in \u001b[0;36mXGBTreeModelLoader.get_trees\u001b[0;34m(self, data, data_missing)\u001b[0m\n\u001b[1;32m   1986\u001b[0m \u001b[38;5;28;01mfor\u001b[39;00m i \u001b[38;5;129;01min\u001b[39;00m \u001b[38;5;28mrange\u001b[39m(\u001b[38;5;28mself\u001b[39m\u001b[38;5;241m.\u001b[39mnum_trees):\n\u001b[1;32m   1987\u001b[0m     info \u001b[38;5;241m=\u001b[39m {\n\u001b[1;32m   1988\u001b[0m         \u001b[38;5;124m\"\u001b[39m\u001b[38;5;124mchildren_left\u001b[39m\u001b[38;5;124m\"\u001b[39m: \u001b[38;5;28mself\u001b[39m\u001b[38;5;241m.\u001b[39mnode_cleft[i],\n\u001b[1;32m   1989\u001b[0m         \u001b[38;5;124m\"\u001b[39m\u001b[38;5;124mchildren_right\u001b[39m\u001b[38;5;124m\"\u001b[39m: \u001b[38;5;28mself\u001b[39m\u001b[38;5;241m.\u001b[39mnode_cright[i],\n\u001b[0;32m   (...)\u001b[0m\n\u001b[1;32m   1994\u001b[0m         \u001b[38;5;124m\"\u001b[39m\u001b[38;5;124mnode_sample_weight\u001b[39m\u001b[38;5;124m\"\u001b[39m: \u001b[38;5;28mself\u001b[39m\u001b[38;5;241m.\u001b[39msum_hess[i],\n\u001b[1;32m   1995\u001b[0m     }\n\u001b[0;32m-> 1996\u001b[0m     trees\u001b[38;5;241m.\u001b[39mappend(\u001b[43mSingleTree\u001b[49m\u001b[43m(\u001b[49m\u001b[43minfo\u001b[49m\u001b[43m,\u001b[49m\u001b[43m \u001b[49m\u001b[43mdata\u001b[49m\u001b[38;5;241;43m=\u001b[39;49m\u001b[43mdata\u001b[49m\u001b[43m,\u001b[49m\u001b[43m \u001b[49m\u001b[43mdata_missing\u001b[49m\u001b[38;5;241;43m=\u001b[39;49m\u001b[43mdata_missing\u001b[49m\u001b[43m)\u001b[49m)\n\u001b[1;32m   1997\u001b[0m \u001b[38;5;28;01mreturn\u001b[39;00m trees\n",
      "File \u001b[0;32m~/anaconda3/envs/xgb-gpu/lib/python3.9/site-packages/shap/explainers/_tree.py:1468\u001b[0m, in \u001b[0;36mSingleTree.__init__\u001b[0;34m(self, tree, normalize, scaling, data, data_missing)\u001b[0m\n\u001b[1;32m   1467\u001b[0m \u001b[38;5;28;01mdef\u001b[39;00m\u001b[38;5;250m \u001b[39m\u001b[38;5;21m__init__\u001b[39m(\u001b[38;5;28mself\u001b[39m, tree, normalize\u001b[38;5;241m=\u001b[39m\u001b[38;5;28;01mFalse\u001b[39;00m, scaling\u001b[38;5;241m=\u001b[39m\u001b[38;5;241m1.0\u001b[39m, data\u001b[38;5;241m=\u001b[39m\u001b[38;5;28;01mNone\u001b[39;00m, data_missing\u001b[38;5;241m=\u001b[39m\u001b[38;5;28;01mNone\u001b[39;00m):\n\u001b[0;32m-> 1468\u001b[0m     \u001b[43massert_import\u001b[49m\u001b[43m(\u001b[49m\u001b[38;5;124;43m\"\u001b[39;49m\u001b[38;5;124;43mcext\u001b[39;49m\u001b[38;5;124;43m\"\u001b[39;49m\u001b[43m)\u001b[49m\n\u001b[1;32m   1470\u001b[0m     \u001b[38;5;28;01mif\u001b[39;00m safe_isinstance(tree, [\u001b[38;5;124m\"\u001b[39m\u001b[38;5;124msklearn.tree._tree.Tree\u001b[39m\u001b[38;5;124m\"\u001b[39m, \u001b[38;5;124m\"\u001b[39m\u001b[38;5;124meconml.tree._tree.Tree\u001b[39m\u001b[38;5;124m\"\u001b[39m]):\n\u001b[1;32m   1471\u001b[0m         \u001b[38;5;28mself\u001b[39m\u001b[38;5;241m.\u001b[39mchildren_left \u001b[38;5;241m=\u001b[39m tree\u001b[38;5;241m.\u001b[39mchildren_left\u001b[38;5;241m.\u001b[39mastype(np\u001b[38;5;241m.\u001b[39mint32)\n",
      "File \u001b[0;32m~/anaconda3/envs/xgb-gpu/lib/python3.9/site-packages/shap/utils/_general.py:19\u001b[0m, in \u001b[0;36massert_import\u001b[0;34m(package_name)\u001b[0m\n\u001b[1;32m     17\u001b[0m msg,e \u001b[38;5;241m=\u001b[39m import_errors[package_name]\n\u001b[1;32m     18\u001b[0m \u001b[38;5;28mprint\u001b[39m(msg)\n\u001b[0;32m---> 19\u001b[0m \u001b[38;5;28;01mraise\u001b[39;00m e\n",
      "    \u001b[0;31m[... skipping hidden 1 frame]\u001b[0m\n",
      "Cell \u001b[0;32mIn[25], line 1\u001b[0m\n\u001b[0;32m----> 1\u001b[0m shap_fig\u001b[38;5;241m=\u001b[39m\u001b[43mxgbFunc\u001b[49m\u001b[38;5;241;43m.\u001b[39;49m\u001b[43mvisulize_shap\u001b[49m\u001b[43m(\u001b[49m\u001b[43mmodel\u001b[49m\u001b[43m,\u001b[49m\u001b[43m \u001b[49m\u001b[43mX_train\u001b[49m\u001b[43m)\u001b[49m\n\u001b[1;32m      2\u001b[0m shap_fig\u001b[38;5;241m.\u001b[39msavefig(os\u001b[38;5;241m.\u001b[39mpath\u001b[38;5;241m.\u001b[39mjoin(result_path,\u001b[38;5;124m\"\u001b[39m\u001b[38;5;124mshap.png\u001b[39m\u001b[38;5;124m\"\u001b[39m), dpi\u001b[38;5;241m=\u001b[39m\u001b[38;5;241m300\u001b[39m)\n",
      "File \u001b[0;32m~/CODE/NewZealand_traffic/xgbFunc.py:226\u001b[0m, in \u001b[0;36mvisulize_shap\u001b[0;34m(model, X_train)\u001b[0m\n\u001b[1;32m    224\u001b[0m \u001b[38;5;28;01mdef\u001b[39;00m\u001b[38;5;250m \u001b[39m\u001b[38;5;21mvisualize_shap\u001b[39m(model,X_train):\n\u001b[0;32m--> 226\u001b[0m     explainer \u001b[38;5;241m=\u001b[39m shap\u001b[38;5;241m.\u001b[39mTreeExplainer(model\u001b[38;5;241m.\u001b[39mget_booster,X_train)\n\u001b[1;32m    227\u001b[0m     shap_values \u001b[38;5;241m=\u001b[39m explainer(X_train)\n\u001b[1;32m    228\u001b[0m     shap\u001b[38;5;241m.\u001b[39msummary_plot(shap_values, X_train,show\u001b[38;5;241m=\u001b[39m\u001b[38;5;28;01mFalse\u001b[39;00m,plot_type\u001b[38;5;241m=\u001b[39m\u001b[38;5;124m\"\u001b[39m\u001b[38;5;124mdot\u001b[39m\u001b[38;5;124m\"\u001b[39m)\n",
      "File \u001b[0;32m~/anaconda3/envs/xgb-gpu/lib/python3.9/site-packages/shap/explainers/_tree.py:195\u001b[0m, in \u001b[0;36mTreeExplainer.__init__\u001b[0;34m(self, model, data, model_output, feature_perturbation, feature_names, approximate, link, linearize_link)\u001b[0m\n\u001b[1;32m    193\u001b[0m \u001b[38;5;28mself\u001b[39m\u001b[38;5;241m.\u001b[39mfeature_perturbation \u001b[38;5;241m=\u001b[39m feature_perturbation\n\u001b[1;32m    194\u001b[0m \u001b[38;5;28mself\u001b[39m\u001b[38;5;241m.\u001b[39mexpected_value \u001b[38;5;241m=\u001b[39m \u001b[38;5;28;01mNone\u001b[39;00m\n\u001b[0;32m--> 195\u001b[0m \u001b[38;5;28mself\u001b[39m\u001b[38;5;241m.\u001b[39mmodel \u001b[38;5;241m=\u001b[39m \u001b[43mTreeEnsemble\u001b[49m\u001b[43m(\u001b[49m\u001b[43mmodel\u001b[49m\u001b[43m,\u001b[49m\u001b[43m \u001b[49m\u001b[38;5;28;43mself\u001b[39;49m\u001b[38;5;241;43m.\u001b[39;49m\u001b[43mdata\u001b[49m\u001b[43m,\u001b[49m\u001b[43m \u001b[49m\u001b[38;5;28;43mself\u001b[39;49m\u001b[38;5;241;43m.\u001b[39;49m\u001b[43mdata_missing\u001b[49m\u001b[43m,\u001b[49m\u001b[43m \u001b[49m\u001b[43mmodel_output\u001b[49m\u001b[43m)\u001b[49m\n\u001b[1;32m    196\u001b[0m \u001b[38;5;28mself\u001b[39m\u001b[38;5;241m.\u001b[39mmodel_output \u001b[38;5;241m=\u001b[39m model_output\n\u001b[1;32m    197\u001b[0m \u001b[38;5;66;03m#self.model_output = self.model.model_output # this allows the TreeEnsemble to translate model outputs types by how it loads the model\u001b[39;00m\n",
      "File \u001b[0;32m~/anaconda3/envs/xgb-gpu/lib/python3.9/site-packages/shap/explainers/_tree.py:1046\u001b[0m, in \u001b[0;36mTreeEnsemble.__init__\u001b[0;34m(self, model, data, data_missing, model_output)\u001b[0m\n\u001b[1;32m   1044\u001b[0m \u001b[38;5;28mself\u001b[39m\u001b[38;5;241m.\u001b[39minput_dtype \u001b[38;5;241m=\u001b[39m np\u001b[38;5;241m.\u001b[39mfloat32\n\u001b[1;32m   1045\u001b[0m \u001b[38;5;28mself\u001b[39m\u001b[38;5;241m.\u001b[39moriginal_model \u001b[38;5;241m=\u001b[39m model\u001b[38;5;241m.\u001b[39mget_booster()\n\u001b[0;32m-> 1046\u001b[0m \u001b[38;5;28;43mself\u001b[39;49m\u001b[38;5;241;43m.\u001b[39;49m\u001b[43m_set_xgboost_model_attributes\u001b[49m\u001b[43m(\u001b[49m\n\u001b[1;32m   1047\u001b[0m \u001b[43m    \u001b[49m\u001b[43mdata\u001b[49m\u001b[43m,\u001b[49m\n\u001b[1;32m   1048\u001b[0m \u001b[43m    \u001b[49m\u001b[43mdata_missing\u001b[49m\u001b[43m,\u001b[49m\n\u001b[1;32m   1049\u001b[0m \u001b[43m    \u001b[49m\u001b[43mobjective_name_map\u001b[49m\u001b[43m,\u001b[49m\n\u001b[1;32m   1050\u001b[0m \u001b[43m    \u001b[49m\u001b[43mtree_output_name_map\u001b[49m\u001b[43m,\u001b[49m\n\u001b[1;32m   1051\u001b[0m \u001b[43m\u001b[49m\u001b[43m)\u001b[49m\n\u001b[1;32m   1053\u001b[0m \u001b[38;5;28;01mif\u001b[39;00m \u001b[38;5;28mself\u001b[39m\u001b[38;5;241m.\u001b[39mmodel_output \u001b[38;5;241m==\u001b[39m \u001b[38;5;124m\"\u001b[39m\u001b[38;5;124mpredict_proba\u001b[39m\u001b[38;5;124m\"\u001b[39m:\n\u001b[1;32m   1054\u001b[0m     \u001b[38;5;28;01mif\u001b[39;00m \u001b[38;5;28mself\u001b[39m\u001b[38;5;241m.\u001b[39mnum_stacked_models \u001b[38;5;241m==\u001b[39m \u001b[38;5;241m1\u001b[39m:\n\u001b[1;32m   1055\u001b[0m         \u001b[38;5;66;03m# with predict_proba we need to double the outputs to match\u001b[39;00m\n",
      "File \u001b[0;32m~/anaconda3/envs/xgb-gpu/lib/python3.9/site-packages/shap/explainers/_tree.py:1280\u001b[0m, in \u001b[0;36mTreeEnsemble._set_xgboost_model_attributes\u001b[0;34m(self, data, data_missing, objective_name_map, tree_output_name_map)\u001b[0m\n\u001b[1;32m   1277\u001b[0m \u001b[38;5;28mself\u001b[39m\u001b[38;5;241m.\u001b[39mmodel_type \u001b[38;5;241m=\u001b[39m \u001b[38;5;124m\"\u001b[39m\u001b[38;5;124mxgboost\u001b[39m\u001b[38;5;124m\"\u001b[39m\n\u001b[1;32m   1278\u001b[0m loader \u001b[38;5;241m=\u001b[39m XGBTreeModelLoader(\u001b[38;5;28mself\u001b[39m\u001b[38;5;241m.\u001b[39moriginal_model)\n\u001b[0;32m-> 1280\u001b[0m \u001b[38;5;28mself\u001b[39m\u001b[38;5;241m.\u001b[39mtrees \u001b[38;5;241m=\u001b[39m \u001b[43mloader\u001b[49m\u001b[38;5;241;43m.\u001b[39;49m\u001b[43mget_trees\u001b[49m\u001b[43m(\u001b[49m\u001b[43mdata\u001b[49m\u001b[38;5;241;43m=\u001b[39;49m\u001b[43mdata\u001b[49m\u001b[43m,\u001b[49m\u001b[43m \u001b[49m\u001b[43mdata_missing\u001b[49m\u001b[38;5;241;43m=\u001b[39;49m\u001b[43mdata_missing\u001b[49m\u001b[43m)\u001b[49m\n\u001b[1;32m   1281\u001b[0m \u001b[38;5;28mself\u001b[39m\u001b[38;5;241m.\u001b[39mbase_offset \u001b[38;5;241m=\u001b[39m loader\u001b[38;5;241m.\u001b[39mbase_score\n\u001b[1;32m   1282\u001b[0m \u001b[38;5;28mself\u001b[39m\u001b[38;5;241m.\u001b[39mobjective \u001b[38;5;241m=\u001b[39m objective_name_map\u001b[38;5;241m.\u001b[39mget(loader\u001b[38;5;241m.\u001b[39mname_obj, \u001b[38;5;28;01mNone\u001b[39;00m)\n",
      "File \u001b[0;32m~/anaconda3/envs/xgb-gpu/lib/python3.9/site-packages/shap/explainers/_tree.py:1996\u001b[0m, in \u001b[0;36mXGBTreeModelLoader.get_trees\u001b[0;34m(self, data, data_missing)\u001b[0m\n\u001b[1;32m   1986\u001b[0m \u001b[38;5;28;01mfor\u001b[39;00m i \u001b[38;5;129;01min\u001b[39;00m \u001b[38;5;28mrange\u001b[39m(\u001b[38;5;28mself\u001b[39m\u001b[38;5;241m.\u001b[39mnum_trees):\n\u001b[1;32m   1987\u001b[0m     info \u001b[38;5;241m=\u001b[39m {\n\u001b[1;32m   1988\u001b[0m         \u001b[38;5;124m\"\u001b[39m\u001b[38;5;124mchildren_left\u001b[39m\u001b[38;5;124m\"\u001b[39m: \u001b[38;5;28mself\u001b[39m\u001b[38;5;241m.\u001b[39mnode_cleft[i],\n\u001b[1;32m   1989\u001b[0m         \u001b[38;5;124m\"\u001b[39m\u001b[38;5;124mchildren_right\u001b[39m\u001b[38;5;124m\"\u001b[39m: \u001b[38;5;28mself\u001b[39m\u001b[38;5;241m.\u001b[39mnode_cright[i],\n\u001b[0;32m   (...)\u001b[0m\n\u001b[1;32m   1994\u001b[0m         \u001b[38;5;124m\"\u001b[39m\u001b[38;5;124mnode_sample_weight\u001b[39m\u001b[38;5;124m\"\u001b[39m: \u001b[38;5;28mself\u001b[39m\u001b[38;5;241m.\u001b[39msum_hess[i],\n\u001b[1;32m   1995\u001b[0m     }\n\u001b[0;32m-> 1996\u001b[0m     trees\u001b[38;5;241m.\u001b[39mappend(\u001b[43mSingleTree\u001b[49m\u001b[43m(\u001b[49m\u001b[43minfo\u001b[49m\u001b[43m,\u001b[49m\u001b[43m \u001b[49m\u001b[43mdata\u001b[49m\u001b[38;5;241;43m=\u001b[39;49m\u001b[43mdata\u001b[49m\u001b[43m,\u001b[49m\u001b[43m \u001b[49m\u001b[43mdata_missing\u001b[49m\u001b[38;5;241;43m=\u001b[39;49m\u001b[43mdata_missing\u001b[49m\u001b[43m)\u001b[49m)\n\u001b[1;32m   1997\u001b[0m \u001b[38;5;28;01mreturn\u001b[39;00m trees\n",
      "File \u001b[0;32m~/anaconda3/envs/xgb-gpu/lib/python3.9/site-packages/shap/explainers/_tree.py:1468\u001b[0m, in \u001b[0;36mSingleTree.__init__\u001b[0;34m(self, tree, normalize, scaling, data, data_missing)\u001b[0m\n\u001b[1;32m   1467\u001b[0m \u001b[38;5;28;01mdef\u001b[39;00m\u001b[38;5;250m \u001b[39m\u001b[38;5;21m__init__\u001b[39m(\u001b[38;5;28mself\u001b[39m, tree, normalize\u001b[38;5;241m=\u001b[39m\u001b[38;5;28;01mFalse\u001b[39;00m, scaling\u001b[38;5;241m=\u001b[39m\u001b[38;5;241m1.0\u001b[39m, data\u001b[38;5;241m=\u001b[39m\u001b[38;5;28;01mNone\u001b[39;00m, data_missing\u001b[38;5;241m=\u001b[39m\u001b[38;5;28;01mNone\u001b[39;00m):\n\u001b[0;32m-> 1468\u001b[0m     \u001b[43massert_import\u001b[49m\u001b[43m(\u001b[49m\u001b[38;5;124;43m\"\u001b[39;49m\u001b[38;5;124;43mcext\u001b[39;49m\u001b[38;5;124;43m\"\u001b[39;49m\u001b[43m)\u001b[49m\n\u001b[1;32m   1470\u001b[0m     \u001b[38;5;28;01mif\u001b[39;00m safe_isinstance(tree, [\u001b[38;5;124m\"\u001b[39m\u001b[38;5;124msklearn.tree._tree.Tree\u001b[39m\u001b[38;5;124m\"\u001b[39m, \u001b[38;5;124m\"\u001b[39m\u001b[38;5;124meconml.tree._tree.Tree\u001b[39m\u001b[38;5;124m\"\u001b[39m]):\n\u001b[1;32m   1471\u001b[0m         \u001b[38;5;28mself\u001b[39m\u001b[38;5;241m.\u001b[39mchildren_left \u001b[38;5;241m=\u001b[39m tree\u001b[38;5;241m.\u001b[39mchildren_left\u001b[38;5;241m.\u001b[39mastype(np\u001b[38;5;241m.\u001b[39mint32)\n",
      "File \u001b[0;32m~/anaconda3/envs/xgb-gpu/lib/python3.9/site-packages/shap/utils/_general.py:19\u001b[0m, in \u001b[0;36massert_import\u001b[0;34m(package_name)\u001b[0m\n\u001b[1;32m     17\u001b[0m msg,e \u001b[38;5;241m=\u001b[39m import_errors[package_name]\n\u001b[1;32m     18\u001b[0m \u001b[38;5;28mprint\u001b[39m(msg)\n\u001b[0;32m---> 19\u001b[0m \u001b[38;5;28;01mraise\u001b[39;00m e\n",
      "File \u001b[0;32m~/anaconda3/envs/xgb-gpu/lib/python3.9/site-packages/shap/explainers/_tree.py:29\u001b[0m\n\u001b[1;32m     26\u001b[0m \u001b[38;5;28;01mfrom\u001b[39;00m\u001b[38;5;250m \u001b[39m\u001b[38;5;21;01m.\u001b[39;00m\u001b[38;5;21;01mother\u001b[39;00m\u001b[38;5;21;01m.\u001b[39;00m\u001b[38;5;21;01m_ubjson\u001b[39;00m\u001b[38;5;250m \u001b[39m\u001b[38;5;28;01mimport\u001b[39;00m decode_ubjson_buffer\n\u001b[1;32m     28\u001b[0m \u001b[38;5;28;01mtry\u001b[39;00m:\n\u001b[0;32m---> 29\u001b[0m     \u001b[38;5;28;01mfrom\u001b[39;00m\u001b[38;5;250m \u001b[39m\u001b[38;5;21;01m.\u001b[39;00m\u001b[38;5;21;01m.\u001b[39;00m\u001b[38;5;250m \u001b[39m\u001b[38;5;28;01mimport\u001b[39;00m _cext\n\u001b[1;32m     30\u001b[0m \u001b[38;5;28;01mexcept\u001b[39;00m \u001b[38;5;167;01mImportError\u001b[39;00m \u001b[38;5;28;01mas\u001b[39;00m e:\n\u001b[1;32m     31\u001b[0m     record_import_error(\u001b[38;5;124m\"\u001b[39m\u001b[38;5;124mcext\u001b[39m\u001b[38;5;124m\"\u001b[39m, \u001b[38;5;124m\"\u001b[39m\u001b[38;5;124mC extension was not built during install!\u001b[39m\u001b[38;5;124m\"\u001b[39m, e)\n",
      "\u001b[0;31mImportError\u001b[0m: numpy.core.multiarray failed to import"
     ]
    }
   ],
   "source": [
    "shap_fig=xgbFunc.visulize_shap(model, X_train)\n",
    "shap_fig.savefig(os.path.join(result_path,\"shap.png\"), dpi=300)"
   ]
  },
  {
   "cell_type": "code",
   "execution_count": null,
   "id": "79c64462",
   "metadata": {},
   "outputs": [],
   "source": []
  }
 ],
 "metadata": {
  "kernelspec": {
   "display_name": "xgb-gpu",
   "language": "python",
   "name": "python3"
  },
  "language_info": {
   "codemirror_mode": {
    "name": "ipython",
    "version": 3
   },
   "file_extension": ".py",
   "mimetype": "text/x-python",
   "name": "python",
   "nbconvert_exporter": "python",
   "pygments_lexer": "ipython3",
   "version": "3.9.21"
  }
 },
 "nbformat": 4,
 "nbformat_minor": 5
}
